{
 "cells": [
  {
   "cell_type": "markdown",
   "id": "25d7736c-ba17-4aff-b6bb-66eba20fbf4e",
   "metadata": {},
   "source": [
    "# Lab | Pandas"
   ]
  },
  {
   "cell_type": "markdown",
   "id": "d1973e9e-8be6-4039-b70e-d73ee0d94c99",
   "metadata": {},
   "source": [
    "In this lab, we will be working with the customer data from an insurance company, which can be found in the CSV file located at the following link: https://raw.githubusercontent.com/data-bootcamp-v4/data/main/file1.csv\n",
    "\n",
    "The data includes information such as customer ID, state, gender, education, income, and other variables that can be used to perform various analyses.\n",
    "\n",
    "Throughout the lab, we will be using the pandas library in Python to manipulate and analyze the data. Pandas is a powerful library that provides various data manipulation and analysis tools, including the ability to load and manipulate data from a variety of sources, including CSV files."
   ]
  },
  {
   "cell_type": "markdown",
   "id": "8045146f-f4f7-44d9-8cd9-130d6400c73a",
   "metadata": {},
   "source": [
    "### Data Description\n",
    "\n",
    "- Customer - Customer ID\n",
    "\n",
    "- ST - State where customers live\n",
    "\n",
    "- Gender - Gender of the customer\n",
    "\n",
    "- Education - Background education of customers \n",
    "\n",
    "- Customer Lifetime Value - Customer lifetime value(CLV) is the total revenue the client will derive from their entire relationship with a customer. In other words, is the predicted or calculated value of a customer over their entire duration as a policyholder with the insurance company. It is an estimation of the net profit that the insurance company expects to generate from a customer throughout their relationship with the company. Customer Lifetime Value takes into account factors such as the duration of the customer's policy, premium payments, claim history, renewal likelihood, and potential additional services or products the customer may purchase. It helps insurers assess the long-term profitability and value associated with retaining a particular customer.\n",
    "\n",
    "- Income - Customers income\n",
    "\n",
    "- Monthly Premium Auto - Amount of money the customer pays on a monthly basis as a premium for their auto insurance coverage. It represents the recurring cost that the insured person must pay to maintain their insurance policy and receive coverage for potential damages, accidents, or other covered events related to their vehicle.\n",
    "\n",
    "- Number of Open Complaints - Number of complaints the customer opened\n",
    "\n",
    "- Policy Type - There are three type of policies in car insurance (Corporate Auto, Personal Auto, and Special Auto)\n",
    "\n",
    "- Vehicle Class - Type of vehicle classes that customers have Two-Door Car, Four-Door Car SUV, Luxury SUV, Sports Car, and Luxury Car\n",
    "\n",
    "- Total Claim Amount - the sum of all claims made by the customer. It represents the total monetary value of all approved claims for incidents such as accidents, theft, vandalism, or other covered events.\n"
   ]
  },
  {
   "cell_type": "markdown",
   "id": "3a72419b-20fc-4905-817a-8c83abc59de6",
   "metadata": {},
   "source": [
    "External Resources: https://towardsdatascience.com/filtering-data-frames-in-pandas-b570b1f834b9"
   ]
  },
  {
   "cell_type": "markdown",
   "id": "8f8ece17-e919-4e23-96c0-c7c59778436a",
   "metadata": {},
   "source": [
    "## Challenge 1: Understanding the data\n",
    "\n",
    "In this challenge, you will use pandas to explore a given dataset. Your task is to gain a deep understanding of the data by analyzing its characteristics, dimensions, and statistical properties."
   ]
  },
  {
   "cell_type": "markdown",
   "id": "91437bd5-59a6-49c0-8150-ef0e6e6eb253",
   "metadata": {},
   "source": [
    "- Identify the dimensions of the dataset by determining the number of rows and columns it contains.\n",
    "- Determine the data types of each column and evaluate whether they are appropriate for the nature of the variable. You should also provide suggestions for fixing any incorrect data types.\n",
    "- Identify the number of unique values for each column and determine which columns appear to be categorical. You should also describe the unique values of each categorical column and the range of values for numerical columns, and give your insights.\n",
    "- Compute summary statistics such as mean, median, mode, standard deviation, and quartiles to understand the central tendency and distribution of the data for numerical columns. You should also provide your conclusions based on these summary statistics.\n",
    "- Compute summary statistics for categorical columns and providing your conclusions based on these statistics."
   ]
  },
  {
   "cell_type": "code",
   "execution_count": 44,
   "id": "1c2fae1b",
   "metadata": {},
   "outputs": [],
   "source": [
    "#-----------------------------SOLUTION-------------------------------------"
   ]
  },
  {
   "cell_type": "code",
   "execution_count": 20,
   "id": "dd4e8cd8-a6f6-486c-a5c4-1745b0c035f4",
   "metadata": {},
   "outputs": [
    {
     "name": "stdout",
     "output_type": "stream",
     "text": [
      "Row = 4008\n",
      "Column = 11\n"
     ]
    }
   ],
   "source": [
    "# - Identify the dimensions of the dataset by determining the number of rows and columns it contains.\n",
    "\n",
    "import pandas as pd\n",
    "url = 'https://raw.githubusercontent.com/data-bootcamp-v4/data/main/file1.csv'\n",
    "\n",
    "insurance_db = pd.read_csv(url)\n",
    "\n",
    "print(\"Row =\",(len(insurance_db)))\n",
    "print(\"Column =\",(len(insurance_db.columns)))\n",
    "\n",
    "\n",
    "#or print(\"Row, Column = \", insurance_db.shape)"
   ]
  },
  {
   "cell_type": "code",
   "execution_count": 21,
   "id": "24431856",
   "metadata": {},
   "outputs": [
    {
     "data": {
      "text/plain": [
       "Customer                      object\n",
       "ST                            object\n",
       "GENDER                        object\n",
       "Education                     object\n",
       "Customer Lifetime Value       object\n",
       "Income                       float64\n",
       "Monthly Premium Auto         float64\n",
       "Number of Open Complaints     object\n",
       "Policy Type                   object\n",
       "Vehicle Class                 object\n",
       "Total Claim Amount           float64\n",
       "dtype: object"
      ]
     },
     "execution_count": 21,
     "metadata": {},
     "output_type": "execute_result"
    }
   ],
   "source": [
    "# - Determine the data types of each column and evaluate whether they are appropriate for the nature of the variable. \n",
    "#   You should also provide suggestions for fixing any incorrect data types.\n",
    "\n",
    "\n",
    "insurance_db.dtypes\n",
    "# Suggestion : 'Customer Lifetyme Value' columns data type is incorrect in my opinion it should be float64. \n",
    "#               As well as the 'Number of Open Complaints' should be int64"
   ]
  },
  {
   "cell_type": "code",
   "execution_count": 4,
   "id": "15930ac1",
   "metadata": {},
   "outputs": [
    {
     "name": "stdout",
     "output_type": "stream",
     "text": [
      "Uniqe values for each column:\n",
      "Customer                     1071\n",
      "ST                              8\n",
      "GENDER                          5\n",
      "Education                       6\n",
      "Customer Lifetime Value      1027\n",
      "Income                        774\n",
      "Monthly Premium Auto          132\n",
      "Number of Open Complaints       6\n",
      "Policy Type                     3\n",
      "Vehicle Class                   6\n",
      "Total Claim Amount            761\n",
      "dtype: int64\n"
     ]
    }
   ],
   "source": [
    "# - Identify the number of unique values for each column and determine which columns appear to be categorical. \n",
    "#   You should also describe the unique values of each categorical column and the range of values for numerical columns, and give your insights.\n",
    "\n",
    "uniqe_values = insurance_db.nunique()\n",
    "print(\"Uniqe values for each column:\")\n",
    "print(uniqe_values)"
   ]
  },
  {
   "cell_type": "code",
   "execution_count": 52,
   "id": "d2484328",
   "metadata": {},
   "outputs": [
    {
     "name": "stdout",
     "output_type": "stream",
     "text": [
      "Uniqe Values of each categorical column:\n",
      "ST column uniqe values: ['Washington' 'Arizona' 'Nevada' 'California' 'Oregon' 'Cali' 'AZ' 'WA'\n",
      " nan]\n",
      "GENDER column uniqe values: [nan 'F' 'M' 'Femal' 'Male' 'female']\n",
      "Education column uniqe values: ['Master' 'Bachelor' 'High School or Below' 'College' 'Bachelors' 'Doctor'\n",
      " nan]\n",
      "Number of Open Complaints column uniqe values: ['1/0/00' '1/2/00' '1/1/00' '1/3/00' '1/5/00' '1/4/00' nan]\n",
      "Policy Type column uniqe values: ['Personal Auto' 'Corporate Auto' 'Special Auto' nan]\n",
      "Vehicle Class column uniqe values: ['Four-Door Car' 'Two-Door Car' 'SUV' 'Luxury SUV' 'Sports Car'\n",
      " 'Luxury Car' nan]\n"
     ]
    }
   ],
   "source": [
    "#unique values of each categorical column\n",
    "\n",
    "print(\"Uniqe Values of each categorical column:\")\n",
    "\n",
    "ST_column = insurance_db[\"ST\"].unique()\n",
    "print(\"ST column uniqe values:\",ST_column)\n",
    "\n",
    "GENDER_column = insurance_db[\"GENDER\"].unique()\n",
    "print(\"GENDER column uniqe values:\",GENDER_column)\n",
    "\n",
    "edu_column = insurance_db[\"Education\"].unique()\n",
    "print(\"Education column uniqe values:\",edu_column)\n",
    "\n",
    "complain_column = insurance_db[\"Number of Open Complaints\"].unique()\n",
    "print(\"Number of Open Complaints column uniqe values:\",complain_column)\n",
    "\n",
    "policy_column = insurance_db[\"Policy Type\"].unique()\n",
    "print(\"Policy Type column uniqe values:\",policy_column)\n",
    "\n",
    "vehicle_column = insurance_db[\"Vehicle Class\"].unique()\n",
    "print(\"Vehicle Class column uniqe values:\",vehicle_column)"
   ]
  },
  {
   "cell_type": "code",
   "execution_count": 59,
   "id": "7f180f07",
   "metadata": {},
   "outputs": [
    {
     "name": "stdout",
     "output_type": "stream",
     "text": [
      "Range of values for numerical columns:\n",
      "Income column max value : 99960.0\n",
      "Income column min value : 0.0\n",
      "Monthly Premium Auto column max value : 35354.0\n",
      "Monthly Premium Auto column min value : 61.0\n",
      "Total Claim Amount column max value : 2893.239678\n",
      "Total Claim Amount column min value : 0.382107\n"
     ]
    }
   ],
   "source": [
    "#range of values for numercial column\n",
    "\n",
    "print(\"Range of values for numerical columns:\")\n",
    "\n",
    "income_column_max = insurance_db[\"Income\"].max()\n",
    "print(\"Income column max value :\",income_column_max)\n",
    "income_column_min = insurance_db[\"Income\"].min()\n",
    "print(\"Income column min value :\",income_column_min)\n",
    "\n",
    "mon_prem_auto_column_max = insurance_db[\"Monthly Premium Auto\"].max()\n",
    "print(\"Monthly Premium Auto column max value :\",mon_prem_auto_column_max)\n",
    "mon_prem_auto_column_min = insurance_db[\"Monthly Premium Auto\"].min()\n",
    "print(\"Monthly Premium Auto column min value :\",mon_prem_auto_column_min)\n",
    "\n",
    "total_claim_column_max = insurance_db[\"Total Claim Amount\"].max()\n",
    "print(\"Total Claim Amount column max value :\",total_claim_column_max)\n",
    "total_claim_column_min = insurance_db[\"Total Claim Amount\"].min()\n",
    "print(\"Total Claim Amount column min value :\",total_claim_column_min)"
   ]
  },
  {
   "cell_type": "code",
   "execution_count": 60,
   "id": "83b4fc29",
   "metadata": {},
   "outputs": [
    {
     "data": {
      "text/plain": [
       "{'Income': (0.0, 99960.0),\n",
       " 'Monthly Premium Auto': (61.0, 35354.0),\n",
       " 'Total Claim Amount': (0.382107, 2893.239678)}"
      ]
     },
     "execution_count": 60,
     "metadata": {},
     "output_type": "execute_result"
    }
   ],
   "source": [
    "#another approach to the range of values for numercial column\n",
    "numerical_columns = ['Income', 'Monthly Premium Auto', 'Total Claim Amount']\n",
    "range = {col: (insurance_db[col].min(), insurance_db[col].max()) for col in numerical_columns}\n",
    "range"
   ]
  },
  {
   "cell_type": "code",
   "execution_count": 50,
   "id": "290b83b4",
   "metadata": {},
   "outputs": [
    {
     "name": "stdout",
     "output_type": "stream",
     "text": [
      "Mean Value of the Insurance DF:\n",
      "Income                  39295.701214\n",
      "Monthly Premium Auto      193.234360\n",
      "Total Claim Amount        404.986909\n",
      "dtype: float64\n",
      "Median Value of the Insurance DF:\n",
      "Income                  36234.000000\n",
      "Monthly Premium Auto       83.000000\n",
      "Total Claim Amount        354.729129\n",
      "dtype: float64\n",
      "Mode Value of the Insurance DF:\n",
      "   Income  Monthly Premium Auto  Total Claim Amount\n",
      "0     0.0                  65.0               321.6\n",
      "Standard Deviation Value of the Insurance DF:\n",
      "Income                  30469.427060\n",
      "Monthly Premium Auto     1601.190369\n",
      "Total Claim Amount        293.027260\n",
      "dtype: float64\n",
      "Standard Deviation Value of the Insurance DF:\n",
      "Income                  36234.000000\n",
      "Monthly Premium Auto       83.000000\n",
      "Total Claim Amount        354.729129\n",
      "Name: 0.5, dtype: float64\n"
     ]
    }
   ],
   "source": [
    "# - Compute summary statistics such as mean, median, mode, standard deviation, \n",
    "#   and quartiles to understand the central tendency and distribution of the data for numerical columns. \n",
    "#   You should also provide your conclusions based on these summary statistics.\n",
    "\n",
    "insurance_db_mean = insurance_db[[\"Income\",\"Monthly Premium Auto\",\"Total Claim Amount\"]].mean()\n",
    "print(\"Mean Value of the Insurance DF:\")\n",
    "print(insurance_db_mean)\n",
    "\n",
    "insurance_db_median = insurance_db[[\"Income\",\"Monthly Premium Auto\",\"Total Claim Amount\"]].median()\n",
    "print(\"Median Value of the Insurance DF:\")\n",
    "print(insurance_db_median)\n",
    "\n",
    "insurance_db_mode = insurance_db[[\"Income\",\"Monthly Premium Auto\",\"Total Claim Amount\"]].mode()\n",
    "print(\"Mode Value of the Insurance DF:\")\n",
    "print(insurance_db_mode)\n",
    "\n",
    "insurance_db_std = insurance_db[[\"Income\",\"Monthly Premium Auto\",\"Total Claim Amount\"]].std()\n",
    "print(\"Standard Deviation Value of the Insurance DF:\")\n",
    "print(insurance_db_std)\n",
    "\n",
    "insurance_db_qntl = insurance_db[[\"Income\",\"Monthly Premium Auto\",\"Total Claim Amount\"]].quantile()\n",
    "print(\"Standard Deviation Value of the Insurance DF:\")\n",
    "print(insurance_db_qntl)\n"
   ]
  },
  {
   "cell_type": "code",
   "execution_count": 17,
   "id": "cc3633c1",
   "metadata": {},
   "outputs": [
    {
     "name": "stdout",
     "output_type": "stream",
     "text": [
      "       Customer      ST GENDER Education Customer Lifetime Value  \\\n",
      "count      1071    1071    954      1071                    1068   \n",
      "unique     1071       8      5         6                    1027   \n",
      "top     RB50392  Oregon      F  Bachelor              445811.34%   \n",
      "freq          1     320    457       324                       4   \n",
      "\n",
      "       Number of Open Complaints    Policy Type  Vehicle Class  \n",
      "count                       1071           1071           1071  \n",
      "unique                         6              3              6  \n",
      "top                       1/0/00  Personal Auto  Four-Door Car  \n",
      "freq                         830            780            576  \n"
     ]
    }
   ],
   "source": [
    "# - Compute summary statistics for categorical columns and providing your conclusions based on these statistics.\n",
    "\n",
    "cat_col_stat = insurance_db.describe(include=\"object\")\n",
    "print(cat_col_stat)"
   ]
  },
  {
   "cell_type": "markdown",
   "id": "4a703890-63db-4944-b7ab-95a4f8185120",
   "metadata": {},
   "source": [
    "## Challenge 2: analyzing the data"
   ]
  },
  {
   "cell_type": "markdown",
   "id": "0776a403-c56a-452f-ac33-5fd4fdb06fc7",
   "metadata": {},
   "source": [
    "### Exercise 1"
   ]
  },
  {
   "cell_type": "markdown",
   "id": "eedbc484-da4d-4f9c-9343-e1d44311a87e",
   "metadata": {},
   "source": [
    "The marketing team wants to know the top 5 less common customer locations. Create a pandas Series object that contains the customer locations and their frequencies, and then retrieve the top 5 less common locations in ascending order."
   ]
  },
  {
   "cell_type": "code",
   "execution_count": 22,
   "id": "2dca5073-4520-4f42-9390-4b92733284ed",
   "metadata": {},
   "outputs": [
    {
     "name": "stdout",
     "output_type": "stream",
     "text": [
      "Top 5 less common location:\n",
      "ST        \n",
      "AZ             25\n",
      "WA             30\n",
      "Washington     81\n",
      "Nevada         98\n",
      "Cali          120\n",
      "Name: count, dtype: int64\n"
     ]
    }
   ],
   "source": [
    "# Your code here\n",
    "\n",
    "y = pd.read_csv(url, usecols=[\"ST\"])\n",
    "less_common_location= y.value_counts(ascending=True)\n",
    "print(\"Top 5 less common location:\")\n",
    "print (less_common_location[0:5])"
   ]
  },
  {
   "cell_type": "markdown",
   "id": "0ce80f43-4afa-43c7-a78a-c917444da4e0",
   "metadata": {},
   "source": [
    "### Exercise 2\n",
    "\n",
    "The sales team wants to know the total number of policies sold for each type of policy. Create a pandas Series object that contains the policy types and their total number of policies sold, and then retrieve the policy type with the highest number of policies sold."
   ]
  },
  {
   "cell_type": "markdown",
   "id": "a9f13997-1555-4f98-aca6-970fda1d2c3f",
   "metadata": {},
   "source": [
    "*Hint:*\n",
    "- *Using value_counts() method simplifies this analysis.*\n",
    "- *Futhermore, there is a method that returns the index of the maximum value in a column or row.*\n"
   ]
  },
  {
   "cell_type": "code",
   "execution_count": 23,
   "id": "bcfad6c1-9af2-4b0b-9aa9-0dc5c17473c0",
   "metadata": {},
   "outputs": [
    {
     "name": "stdout",
     "output_type": "stream",
     "text": [
      "Highest sold policies:\n",
      "Policy Type   \n",
      "Personal Auto     780\n",
      "Corporate Auto    234\n",
      "Special Auto       57\n",
      "Name: count, dtype: int64\n"
     ]
    }
   ],
   "source": [
    "# Your code here\n",
    "\n",
    "x = pd.read_csv(url, usecols=[\"Policy Type\"])\n",
    "policy_sold_each_type = x.value_counts(ascending=False) \n",
    "print(\"Highest sold policies:\")\n",
    "print(policy_sold_each_type)\n",
    "\n",
    "\n",
    "#by default it shows the highest number first so the sort is optional i guess :/"
   ]
  },
  {
   "cell_type": "markdown",
   "id": "0b863fd3-bf91-4d5d-86eb-be29ed9f5b70",
   "metadata": {},
   "source": [
    "### Exercise 3\n",
    "\n",
    "The sales team wants to know if customers with Personal Auto have a lower income than those with Corporate Auto. How does the average income compare between the two policy types?"
   ]
  },
  {
   "cell_type": "markdown",
   "id": "b1386d75-2810-4aa1-93e0-9485aa12d552",
   "metadata": {},
   "source": [
    "- Use *loc* to create two dataframes: one containing only Personal Auto policies and one containing only Corporate Auto policies.\n",
    "- Calculate the average income for each policy.\n",
    "- Print the results."
   ]
  },
  {
   "cell_type": "code",
   "execution_count": 81,
   "id": "0c0563cf-6f8b-463d-a321-651a972f82e5",
   "metadata": {},
   "outputs": [
    {
     "name": "stdout",
     "output_type": "stream",
     "text": [
      "Avarage income of Personal Auto policy type customers: 38180.69871794872\n",
      "Avarage income of Corporate Auto policy type customers: 41390.31196581197\n",
      "The difference of income between the two group customers: 3209.61324786325\n",
      "Average income from Personal Auto group: Income    38180.698718\n",
      "dtype: float64\n",
      "Average income from Corporate Auto group: Income    41390.311966\n",
      "dtype: float64\n"
     ]
    }
   ],
   "source": [
    "# Your code here\n",
    "\n",
    "pers_auto = insurance_db.loc[insurance_db[\"Policy Type\"]==\"Personal Auto\", \"Income\"].mean()\n",
    "print(\"Avarage income of Personal Auto policy type customers:\",pers_auto)\n",
    "\n",
    "corp_auto = insurance_db.loc[insurance_db[\"Policy Type\"]==\"Corporate Auto\", \"Income\"].mean()\n",
    "print(\"Avarage income of Corporate Auto policy type customers:\",corp_auto)\n",
    "\n",
    "income_dif = corp_auto - pers_auto \n",
    "print(\"The difference of income between the two group customers:\", income_dif)\n",
    "\n",
    "#approach without iloc\n",
    "personal_auto = insurance_db[insurance_db[\"Policy Type\"]==\"Personal Auto\"]\n",
    "avg_income_prs_auto = personal_auto[[\"Income\"]].mean()\n",
    "print(\"Average income from Personal Auto group:\", avg_income_prs_auto)\n",
    "\n",
    "\n",
    "corporate_auto = insurance_db[insurance_db[\"Policy Type\"]==\"Corporate Auto\"]\n",
    "avg_income_crp_auto = corporate_auto[[\"Income\"]].mean()\n",
    "print(\"Average income from Corporate Auto group:\", avg_income_crp_auto)\n",
    "\n"
   ]
  },
  {
   "cell_type": "markdown",
   "id": "80b16c27-f4a5-4727-a229-1f88671cf4e2",
   "metadata": {},
   "source": [
    "### Bonus: Exercise 4\n"
   ]
  },
  {
   "cell_type": "markdown",
   "id": "ac584986-299b-475f-ac2e-928c16c3f512",
   "metadata": {},
   "source": [
    "Your goal is to identify customers with a high policy claim amount.\n",
    "\n",
    "Instructions:\n",
    "\n",
    "- Review again the statistics for total claim amount to gain an understanding of the data.\n",
    "- To identify potential areas for improving customer retention and profitability, we want to focus on customers with a high policy claim amount. Consider customers with a high policy claim amount to be those in the top 25% of the total claim amount. Create a pandas DataFrame object that contains information about customers with a policy claim amount greater than the 75th percentile.\n",
    "- Use DataFrame methods to calculate summary statistics about the high policy claim amount data. "
   ]
  },
  {
   "cell_type": "markdown",
   "id": "4e3af5f1-6023-4b05-9c01-d05392daa650",
   "metadata": {},
   "source": [
    "*Note: When analyzing data, we often want to focus on certain groups of values to gain insights. Percentiles are a useful tool to help us define these groups. A percentile is a measure that tells us what percentage of values in a dataset are below a certain value. For example, the 75th percentile represents the value below which 75% of the data falls. Similarly, the 25th percentile represents the value below which 25% of the data falls. When we talk about the top 25%, we are referring to the values that fall above the 75th percentile, which represent the top quarter of the data. On the other hand, when we talk about the bottom 25%, we are referring to the values that fall below the 25th percentile, which represent the bottom quarter of the data. By focusing on these groups, we can identify patterns and trends that may be useful for making decisions and taking action.*\n",
    "\n",
    "*Hint: look for a method that gives you the percentile or quantile 0.75 and 0.25 for a Pandas Series.*"
   ]
  },
  {
   "cell_type": "markdown",
   "id": "2d234634-50bd-41e0-88f7-d5ba684455d1",
   "metadata": {},
   "source": [
    "*Hint 2: check `Boolean selection according to the values of a single column` in https://towardsdatascience.com/filtering-data-frames-in-pandas-b570b1f834b9*"
   ]
  },
  {
   "cell_type": "code",
   "execution_count": null,
   "id": "b731bca6-a760-4860-a27b-a33efa712ce0",
   "metadata": {},
   "outputs": [
    {
     "data": {
      "text/plain": [
       "Customer                           RB50392\n",
       "ST                              Washington\n",
       "GENDER                                 NaN\n",
       "Education                           Master\n",
       "Customer Lifetime Value                NaN\n",
       "Income                                 0.0\n",
       "Monthly Premium Auto                1000.0\n",
       "Number of Open Complaints           1/0/00\n",
       "Policy Type                  Personal Auto\n",
       "Vehicle Class                Four-Door Car\n",
       "Total Claim Amount                2.704934\n",
       "Name: 0, dtype: object"
      ]
     },
     "execution_count": 3,
     "metadata": {},
     "output_type": "execute_result"
    }
   ],
   "source": [
    "# Your code here\n",
    "\n",
    "import pandas as pd\n",
    "url = 'https://raw.githubusercontent.com/data-bootcamp-v4/data/main/file1.csv'\n",
    "\n",
    "insurance_db = pd.read_csv(url)\n",
    "insurance_db.loc[0]"
   ]
  }
 ],
 "metadata": {
  "kernelspec": {
   "display_name": "Python 3 (ipykernel)",
   "language": "python",
   "name": "python3"
  },
  "language_info": {
   "codemirror_mode": {
    "name": "ipython",
    "version": 3
   },
   "file_extension": ".py",
   "mimetype": "text/x-python",
   "name": "python",
   "nbconvert_exporter": "python",
   "pygments_lexer": "ipython3",
   "version": "3.11.7"
  }
 },
 "nbformat": 4,
 "nbformat_minor": 5
}
